{
 "cells": [
  {
   "cell_type": "code",
   "execution_count": 40,
   "id": "3c46559e",
   "metadata": {},
   "outputs": [],
   "source": [
    "import pandas as pd\n",
    "from sklearn.model_selection import train_test_split\n",
    "from sklearn.feature_extraction.text import TfidfVectorizer\n",
    "from sklearn.linear_model import LogisticRegression\n",
    "from sklearn.metrics import accuracy_score, classification_report\n",
    "from typing import Union\n",
    "import re"
   ]
  },
  {
   "cell_type": "code",
   "execution_count": 41,
   "id": "ae7ecef3",
   "metadata": {},
   "outputs": [
    {
     "name": "stdout",
     "output_type": "stream",
     "text": [
      "                           text label\n",
      "0                 zucker fabrik    ft\n",
      "1  Lebensmittel kommssionierung    ft\n",
      "2               geländer biegen    mr\n",
      "3  gebäudeausrüstung technische    ct\n",
      "4         kürbiskernöl softgels    ft\n"
     ]
    }
   ],
   "source": [
    "Sentences= pd.read_csv(\"sample_data.csv\")\n",
    "print(Sentences.head())"
   ]
  },
  {
   "cell_type": "code",
   "execution_count": null,
   "id": "6672412c",
   "metadata": {},
   "outputs": [],
   "source": [
    "import pandas as pd\n",
    "from sklearn.model_selection import train_test_split\n",
    "from sklearn.feature_extraction.text import TfidfVectorizer\n",
    "from sklearn.linear_model import LogisticRegression\n",
    "from sklearn.metrics import accuracy_score, classification_report\n",
    "from typing import Union\n",
    "import re"
   ]
  },
  {
   "cell_type": "code",
   "execution_count": 42,
   "id": "39676c6d",
   "metadata": {},
   "outputs": [
    {
     "name": "stdout",
     "output_type": "stream",
     "text": [
      "label\n",
      "ft     11226\n",
      "pkg     9617\n",
      "ct      5061\n",
      "mr      5016\n",
      "ch      3688\n",
      "cnc     2587\n",
      "Name: count, dtype: int64\n",
      "Number of missing values in the dataset:\n",
      "text     0\n",
      "label    0\n",
      "dtype: int64\n"
     ]
    }
   ],
   "source": [
    "class_distribution = Sentences['label'].value_counts()\n",
    "print(class_distribution)\n",
    "\n",
    "Sentences = Sentences.dropna(subset=['label'])\n",
    "print(\"Number of missing values in the dataset:\")\n",
    "print(Sentences.isnull().sum())"
   ]
  },
  {
   "cell_type": "code",
   "execution_count": 47,
   "id": "3f3adb13",
   "metadata": {},
   "outputs": [
    {
     "name": "stdout",
     "output_type": "stream",
     "text": [
      "0                        zucker fabrik\n",
      "1         lebensmittel kommssionierung\n",
      "2                      geländer biegen\n",
      "3         gebäudeausrüstung technische\n",
      "4                kürbiskernöl softgels\n",
      "                     ...              \n",
      "37290        spirituosen dienstleister\n",
      "37291           mini hydraulikzylinder\n",
      "37292    blockbodenbeutel verpackungen\n",
      "37293              drehteile verpacken\n",
      "37294                     bagger tanks\n",
      "Name: text, Length: 37195, dtype: object\n"
     ]
    }
   ],
   "source": [
    "\n",
    "def remove_chinese(text):\n",
    "    if pd.isnull(text):\n",
    "        return text\n",
    "    \n",
    "    chinese_pattern = re.compile('[\\u4e00-\\u9fff]+')\n",
    "    cleaned_text = re.sub(chinese_pattern, '', text)\n",
    "    return cleaned_text\n",
    "\n",
    "Sentences['text'] = Sentences['text'].apply(remove_chinese)\n",
    "Sentences['text'] = Sentences['text'].str.encode('utf-8').str.decode('utf-8', 'ignore')\n",
    "Sentences['text'] = Sentences['text'].str.lower()\n",
    "print(Sentences.text)"
   ]
  },
  {
   "cell_type": "code",
   "execution_count": 58,
   "id": "c21cd8db",
   "metadata": {},
   "outputs": [
    {
     "name": "stdout",
     "output_type": "stream",
     "text": [
      "Accuracy: 0.87\n",
      "Classification Report:\n",
      "              precision    recall  f1-score   support\n",
      "\n",
      "          ch       0.95      0.84      0.89       706\n",
      "         cnc       0.79      0.75      0.77       513\n",
      "          ct       0.95      0.85      0.90      1022\n",
      "          ft       0.82      0.94      0.88      2281\n",
      "          mr       0.89      0.80      0.84      1009\n",
      "         pkg       0.88      0.89      0.89      1908\n",
      "\n",
      "    accuracy                           0.87      7439\n",
      "   macro avg       0.88      0.84      0.86      7439\n",
      "weighted avg       0.88      0.87      0.87      7439\n",
      "\n"
     ]
    }
   ],
   "source": [
    "def logisticreg() :\n",
    "# Train-test split\n",
    "    X_train, X_test, y_train, y_test = train_test_split(Sentences['text'], Sentences['label'], test_size=0.2, random_state=42)\n",
    "\n",
    "    # TF-IDF Vectorization\n",
    "    vectorizer = TfidfVectorizer()\n",
    "    X_train_tfidf = vectorizer.fit_transform(X_train)\n",
    "    X_test_tfidf = vectorizer.transform(X_test)\n",
    "    model = LogisticRegression(max_iter=1000)\n",
    "    model.fit(X_train_tfidf, y_train)\n",
    "    predictions = model.predict(X_test_tfidf)\n",
    "\n",
    "    # Predictions on the test set\n",
    "    predictions = model.predict(X_test_tfidf)\n",
    "\n",
    "    # Evaluate the model\n",
    "    accuracy = accuracy_score(y_test, predictions)\n",
    "    report = classification_report(y_test, predictions)\n",
    "\n",
    "    print(f\"Accuracy: {accuracy:.2f}\")\n",
    "    print(\"Classification Report:\")\n",
    "    print(report)\n",
    "    \n",
    "\n",
    "logisticreg()"
   ]
  },
  {
   "cell_type": "code",
   "execution_count": null,
   "id": "ebe94c54",
   "metadata": {},
   "outputs": [],
   "source": []
  }
 ],
 "metadata": {
  "kernelspec": {
   "display_name": "Python 3 (ipykernel)",
   "language": "python",
   "name": "python3"
  },
  "language_info": {
   "codemirror_mode": {
    "name": "ipython",
    "version": 3
   },
   "file_extension": ".py",
   "mimetype": "text/x-python",
   "name": "python",
   "nbconvert_exporter": "python",
   "pygments_lexer": "ipython3",
   "version": "3.11.5"
  }
 },
 "nbformat": 4,
 "nbformat_minor": 5
}
