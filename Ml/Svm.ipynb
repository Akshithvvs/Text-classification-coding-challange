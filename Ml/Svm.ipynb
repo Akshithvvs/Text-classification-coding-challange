{
 "cells": [
  {
   "cell_type": "markdown",
   "id": "24411947",
   "metadata": {},
   "source": [
    "# Text classification using Support Vector Machine\n",
    "\n",
    "Developed a text classification model using Support vector machine. SVMs perform well when the data is linearly separable, and their goal is to locate the hyperplane that optimally separates the classes in the feature space. In many circumstances, even if the original feature space is multidimensional, the data can be successfully split by a hyperplane. SVMs work well with sparse data, and TF-IDF naturally produces a sparse representation by giving low weights to common words and high weights to distinctive words. Accuracy provides an over all measure of correct prediction and F1 score balances both the precesion and recall. It is specially useful in situations where class distribution is imbalanced."
   ]
  },
  {
   "cell_type": "code",
   "execution_count": 6,
   "id": "78f984e5",
   "metadata": {},
   "outputs": [],
   "source": [
    "#importing libraries and modules\n",
    "import pandas as pd\n",
    "from sklearn.feature_extraction.text import TfidfVectorizer\n",
    "from sklearn.model_selection import train_test_split\n",
    "from sklearn.svm import SVC\n",
    "from sklearn.metrics import accuracy_score,classification_report\n",
    "from preprocessor import remove_chinese\n"
   ]
  },
  {
   "cell_type": "code",
   "execution_count": 7,
   "id": "e59b3ddb",
   "metadata": {},
   "outputs": [
    {
     "name": "stdout",
     "output_type": "stream",
     "text": [
      "<bound method NDFrame.head of                                 text label\n",
      "0                      zucker fabrik    ft\n",
      "1       Lebensmittel kommssionierung    ft\n",
      "2                    geländer biegen    mr\n",
      "3       gebäudeausrüstung technische    ct\n",
      "4              kürbiskernöl softgels    ft\n",
      "...                              ...   ...\n",
      "37290      spirituosen dienstleister    ft\n",
      "37291         mini hydraulikzylinder    ct\n",
      "37292  blockbodenbeutel verpackungen   pkg\n",
      "37293            Drehteile verpacken    mr\n",
      "37294                   bagger tanks    ct\n",
      "\n",
      "[37295 rows x 2 columns]>\n"
     ]
    }
   ],
   "source": [
    "# Loading data into pandas data frame \n",
    "data = pd.read_csv('sample_data.csv')\n",
    "\n",
    "# Check the first few rows\n",
    "print(data.head)"
   ]
  },
  {
   "cell_type": "code",
   "execution_count": 8,
   "id": "7b22d910",
   "metadata": {},
   "outputs": [
    {
     "name": "stdout",
     "output_type": "stream",
     "text": [
      "label\n",
      "ft     11226\n",
      "pkg     9617\n",
      "ct      5061\n",
      "mr      5016\n",
      "ch      3688\n",
      "cnc     2587\n",
      "Name: count, dtype: int64\n",
      "Number of missing values in the dataset:\n",
      "text     0\n",
      "label    0\n",
      "dtype: int64\n"
     ]
    }
   ],
   "source": [
    "#Calculating  the distribution of unique values in the 'label' column of data DataFrame\n",
    "class_distribution = data['label'].value_counts()\n",
    "print(class_distribution)\n",
    "\n",
    "data = data.dropna(subset=['label'])\n",
    "print(\"Number of missing values in the dataset:\")\n",
    "print(data.isnull().sum())\n",
    "data['text'] = data['text'].apply(remove_chinese)\n",
    "data['text'] = data['text'].str.encode('utf-8').str.decode('utf-8', 'ignore')\n",
    "data['text'] = data['text'].str.lower()"
   ]
  },
  {
   "cell_type": "code",
   "execution_count": 9,
   "id": "69d66c95",
   "metadata": {},
   "outputs": [],
   "source": [
    "\n",
    "\n",
    "# Create TF-IDF vectorizer\n",
    "vectorizer = TfidfVectorizer()\n",
    "\n",
    "# Fit and transform the text data\n",
    "X = vectorizer.fit_transform(data['text'])\n",
    "y = data['label']\n"
   ]
  },
  {
   "cell_type": "code",
   "execution_count": 10,
   "id": "eec166a3",
   "metadata": {},
   "outputs": [
    {
     "name": "stdout",
     "output_type": "stream",
     "text": [
      "Accuracy: 0.8708159698884259\n",
      "Classification Report:\n",
      "              precision    recall  f1-score   support\n",
      "\n",
      "          ch       0.87      0.84      0.86       706\n",
      "         cnc       0.92      0.70      0.80       513\n",
      "          ct       0.96      0.84      0.90      1022\n",
      "          ft       0.84      0.93      0.89      2281\n",
      "          mr       0.90      0.79      0.84      1009\n",
      "         pkg       0.84      0.91      0.87      1908\n",
      "\n",
      "    accuracy                           0.87      7439\n",
      "   macro avg       0.89      0.84      0.86      7439\n",
      "weighted avg       0.87      0.87      0.87      7439\n",
      "\n"
     ]
    }
   ],
   "source": [
    "\n",
    "def svm():\n",
    "    # Split the data into training and testing sets\n",
    "    X_train, X_test, y_train, y_test = train_test_split(X, y, test_size=0.2, random_state=42)\n",
    "\n",
    "    # Initialize and train the SVM classifier\n",
    "    svm_classifier = SVC()\n",
    "    svm_classifier.fit(X_train, y_train)\n",
    "\n",
    "    # Predict on the test set\n",
    "    y_pred = svm_classifier.predict(X_test)\n",
    "\n",
    "    # Evaluate accuracy\n",
    "    accuracy = accuracy_score(y_test, y_pred)\n",
    "    report = classification_report(y_test, y_pred)\n",
    "\n",
    "    print(f'Accuracy: {accuracy}')\n",
    "    print(\"Classification Report:\")\n",
    "    print(report)\n",
    "svm()"
   ]
  }
 ],
 "metadata": {
  "kernelspec": {
   "display_name": "Python 3 (ipykernel)",
   "language": "python",
   "name": "python3"
  },
  "language_info": {
   "codemirror_mode": {
    "name": "ipython",
    "version": 3
   },
   "file_extension": ".py",
   "mimetype": "text/x-python",
   "name": "python",
   "nbconvert_exporter": "python",
   "pygments_lexer": "ipython3",
   "version": "3.11.2"
  }
 },
 "nbformat": 4,
 "nbformat_minor": 5
}
